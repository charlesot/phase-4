{
 "cells": [
  {
   "cell_type": "markdown",
   "metadata": {},
   "source": [
    "* Student name: Charles Ondieki Otwori\n",
    "* Student pace: Part-time\n",
    "* Scheduled project review date/time: February 12, 2025\n",
    "* Instructor name: Daniel Ekale \n",
    "* Github link :https://github.com/charlesot/phase-4.git"
   ]
  },
  {
   "cell_type": "markdown",
   "metadata": {},
   "source": [
    "#  Novelle Movies Recommendation  system Project Summary \n",
    "\n",
    "## 1. project overview \n",
    " Unlike established streaming services, small businesses in Kenya that sell movies have high customer churn and dissatisfaction rates because they cannot recommend movies to their customers. The business owners have to watch all the movies to give recommendations, this not only wastes time but also  increases missed opportunities to sell movies that the vendor has never watched. \n",
    " The Novelle Movies recommendation system project will develop a personalized movie recommendation system that will enable small business owners to improve sales and retention of their customers through improved customer experience\n",
    "\n",
    "## 2. Business understanding\n",
    "* Small businesses in Kenya that sell movies have high customer churn and dissatisfaction rates.\n",
    "* They spend a lot of time watching all the movies to give recommendations.\n",
    "* They miss opportunities to sell movies that vendors have never watched.\n",
    "* They have limited resources to develop a personalized movie recommendation system.\n",
    "  \n",
    "### Project objectives \n",
    "* Increase customer engagement by recommending movies based on user preference \n",
    "* Increase sales by supporting customers to find movies of their taste \n",
    "* Be able to make recommendations to new customers\n",
    "  \n",
    "### Key features of Novelle Movie recommendation system \n",
    "* Collaborative filtering (SVD) for personalized recommendations for existing active users \n",
    "* Content-based filtering  using movie genre and tags to handle new users\n",
    "* Hybrid system  that combines both methods  for the best recommendation \n",
    "\n",
    "## 3. Data understanding\n",
    "\n",
    "The project will use the MovieLens small dataset from the GroupLens research lab at the University of Minnesota. It contains 100,863 ratings and 3683 tag applications on 9742 movies. It was created by 610 users between March 29, 1996, and september 24, 2018. The dataset was generated on September 26, 2018,  and is available for download at http://grouplens.org/datasets/.\n",
    "\n",
    "#### Dataset citation \n",
    "F. Maxwell Harper and Joseph A. Konstan. 2015. The MovieLens Datasets: History and Context. ACM Transactions on Interactive Intelligent Systems (TiiS) 5, 4: 19:1–19:19. https://doi.org/10.1145/2827872\n",
    "\n",
    "### Variables\n",
    "The MovieLens small dataset has the following \n",
    "* Movies.csv which contains the movie details (movieId, title, genres)\n",
    "* ratings.CSV which contains user ratings (userId, movieId, rating, timestamp)\n",
    "* tags.CSV contains user-generated movie tags (userId, movieId, tag, timestamp)\n",
    "\n",
    "## 4. Data preparation \n",
    "### Import the Python libraries to use \n",
    "import pandas as pd \n",
    "import seaborn as sns\n",
    "import numpy as np\n",
    "import matplotlib.pyplot as plt\n",
    "from surprise import SVD, Dataset, Reader, SVDpp\n",
    "from surprise.model_selection import train_test_split, cross_validate\n",
    "from surprise import accuracy\n",
    "from collections import defaultdict\n",
    "from sklearn.feature_extraction.text import TfidfVectorizer\n",
    "from sklearn.metrics.pairwise import linear_kernel\n",
    "from sklearn.pipeline import Pipeline \n",
    "\n",
    "### Load the dataset  \n",
    "Dataset if downloaded from http://grouplens.org/datasets/ and loaded into pandas data frames\n",
    "movies_df = pd.read_csv(r'./Data\\movies.csv')\n",
    "tags_df = pd.read_csv(r'./Data\\tags.csv')\n",
    "ratings_df = pd.read_csv(r'./Data\\ratings.csv')\n",
    "\n",
    "### Exploration  \n",
    "* The ratings_df, tags_df, and movies_df  data frames were explored to see the first five rows, the information, shape, missing entries, and the number of unique users and movies.\n",
    "* The column timestamp dropped because it was not being used\n",
    "* All tags converted to lowercase \n",
    "* All the tags per movie aggregate\n",
    "* The movies_df and the tag_df merged on movieID column\n",
    "* All Nan features filled with an empty string\n",
    "* \"genre\" and \"tags\" combined to form one feature  a \"combined_feature\"\n",
    "* The modified movies_df is merged with the ratings_df  to form merged_df dataframe which will be used in development of the model \n",
    "* merged_df data frame is further explored to identify the top ten rated movies, the distribution of the movie rating, the 10 most rated movies, and the distribution number of ratings per user\n",
    "  \n",
    "## 5. Modelling\n",
    "### Collabotarive filtering (SVD) modeling \n",
    "* Used Surprise SVD to predict user preferences: data split into training and testing with test_size of 0.2 and random _state of 42 . training of the model used n_factor of 50 \n",
    "* Model evaluates using root mean square error (RMSE) and mean absolute error (MAE)\n",
    "* function developed to get movie recommendations using  SVD\n",
    "MAE:  0.5781\n",
    "RMSE: 0.7500\n",
    "### Content-based filtering \n",
    " * The TF_IDF and cosine similarity to recommend movies based on combined features\n",
    "\n",
    "### Hybrid recommendation \n",
    "* Hybrid recommendation system combines collaborative filtering (SVD) and content-based filtering.\n",
    "    If the user has rated at least 5 movies, use collaborative filtering (SVD).\n",
    "    If the user has rated less than 5 movies, use content-based filtering and recommend the top-rated movie.\n",
    "    If the user has not rated any movies, recommend the top-rated movies to address the cold start problem\n",
    "  \n",
    "## 6. Model improvement: Hyperparameter Tuning \n",
    "* GridSearchCV was used to improve performance but it shoed no change in performance .\n",
    "Best RMSE parameters: {'n_factors': 150, 'n_epochs': 30, 'lr_all': 0.005, 'reg_all': 0.1}\n",
    "Best MAE parameters: {'n_factors': 150, 'n_epochs': 30, 'lr_all': 0.005, 'reg_all': 0.1}\n",
    "MAE:  0.5781\n",
    "RMSE: 0.7500\n",
    "* SVDpp Used ..showed minimal improvement despite using lots of computational resources \n",
    "RMSE: 0.7206\n",
    "MAE:  0.5518\n"
   ]
  },
  {
   "cell_type": "markdown",
   "metadata": {},
   "source": [
    "Importing Important python libraries "
   ]
  },
  {
   "cell_type": "code",
   "execution_count": 316,
   "metadata": {},
   "outputs": [],
   "source": [
    "import pandas as pd \n",
    "import seaborn as sns\n",
    "import numpy as np\n",
    "import matplotlib.pyplot as plt\n",
    "from surprise import SVD, Dataset , Reader,SVDpp\n",
    "from surprise.model_selection import train_test_split, cross_validate\n",
    "from surprise import accuracy\n",
    "from collections import defaultdict\n",
    "from sklearn.feature_extraction.text import TfidfVectorizer\n",
    "from sklearn.metrics.pairwise import linear_kernel\n",
    "from sklearn.pipeline import Pipeline \n"
   ]
  },
  {
   "cell_type": "markdown",
   "metadata": {},
   "source": [
    "loading dataset"
   ]
  },
  {
   "cell_type": "code",
   "execution_count": 317,
   "metadata": {},
   "outputs": [],
   "source": [
    "movies_df = pd.read_csv(r'./Data\\movies.csv')\n",
    "tags_df = pd.read_csv(r'./Data\\tags.csv')\n",
    "ratings_df = pd.read_csv(r'./Data\\ratings.csv')"
   ]
  },
  {
   "cell_type": "markdown",
   "metadata": {},
   "source": [
    "Data Exploration"
   ]
  },
  {
   "cell_type": "code",
   "execution_count": 318,
   "metadata": {},
   "outputs": [
    {
     "data": {
      "text/html": [
       "<div>\n",
       "<style scoped>\n",
       "    .dataframe tbody tr th:only-of-type {\n",
       "        vertical-align: middle;\n",
       "    }\n",
       "\n",
       "    .dataframe tbody tr th {\n",
       "        vertical-align: top;\n",
       "    }\n",
       "\n",
       "    .dataframe thead th {\n",
       "        text-align: right;\n",
       "    }\n",
       "</style>\n",
       "<table border=\"1\" class=\"dataframe\">\n",
       "  <thead>\n",
       "    <tr style=\"text-align: right;\">\n",
       "      <th></th>\n",
       "      <th>movieId</th>\n",
       "      <th>title</th>\n",
       "      <th>genres</th>\n",
       "    </tr>\n",
       "  </thead>\n",
       "  <tbody>\n",
       "    <tr>\n",
       "      <th>0</th>\n",
       "      <td>1</td>\n",
       "      <td>Toy Story (1995)</td>\n",
       "      <td>Adventure|Animation|Children|Comedy|Fantasy</td>\n",
       "    </tr>\n",
       "    <tr>\n",
       "      <th>1</th>\n",
       "      <td>2</td>\n",
       "      <td>Jumanji (1995)</td>\n",
       "      <td>Adventure|Children|Fantasy</td>\n",
       "    </tr>\n",
       "    <tr>\n",
       "      <th>2</th>\n",
       "      <td>3</td>\n",
       "      <td>Grumpier Old Men (1995)</td>\n",
       "      <td>Comedy|Romance</td>\n",
       "    </tr>\n",
       "    <tr>\n",
       "      <th>3</th>\n",
       "      <td>4</td>\n",
       "      <td>Waiting to Exhale (1995)</td>\n",
       "      <td>Comedy|Drama|Romance</td>\n",
       "    </tr>\n",
       "    <tr>\n",
       "      <th>4</th>\n",
       "      <td>5</td>\n",
       "      <td>Father of the Bride Part II (1995)</td>\n",
       "      <td>Comedy</td>\n",
       "    </tr>\n",
       "  </tbody>\n",
       "</table>\n",
       "</div>"
      ],
      "text/plain": [
       "   movieId                               title  \\\n",
       "0        1                    Toy Story (1995)   \n",
       "1        2                      Jumanji (1995)   \n",
       "2        3             Grumpier Old Men (1995)   \n",
       "3        4            Waiting to Exhale (1995)   \n",
       "4        5  Father of the Bride Part II (1995)   \n",
       "\n",
       "                                        genres  \n",
       "0  Adventure|Animation|Children|Comedy|Fantasy  \n",
       "1                   Adventure|Children|Fantasy  \n",
       "2                               Comedy|Romance  \n",
       "3                         Comedy|Drama|Romance  \n",
       "4                                       Comedy  "
      ]
     },
     "execution_count": 318,
     "metadata": {},
     "output_type": "execute_result"
    }
   ],
   "source": [
    "movies_df.head()"
   ]
  },
  {
   "cell_type": "code",
   "execution_count": 319,
   "metadata": {},
   "outputs": [
    {
     "name": "stdout",
     "output_type": "stream",
     "text": [
      "<class 'pandas.core.frame.DataFrame'>\n",
      "RangeIndex: 9742 entries, 0 to 9741\n",
      "Data columns (total 3 columns):\n",
      " #   Column   Non-Null Count  Dtype \n",
      "---  ------   --------------  ----- \n",
      " 0   movieId  9742 non-null   int64 \n",
      " 1   title    9742 non-null   object\n",
      " 2   genres   9742 non-null   object\n",
      "dtypes: int64(1), object(2)\n",
      "memory usage: 228.5+ KB\n"
     ]
    }
   ],
   "source": [
    "movies_df.info()"
   ]
  },
  {
   "cell_type": "code",
   "execution_count": 320,
   "metadata": {},
   "outputs": [
    {
     "data": {
      "text/plain": [
       "(9742, 3)"
      ]
     },
     "execution_count": 320,
     "metadata": {},
     "output_type": "execute_result"
    }
   ],
   "source": [
    "movies_df.shape"
   ]
  },
  {
   "cell_type": "markdown",
   "metadata": {},
   "source": [
    "* Movies_df has 9742 columns and 3 rows . It alsk has no null values. The Columns include MovieId, title and genres. "
   ]
  },
  {
   "cell_type": "code",
   "execution_count": 321,
   "metadata": {},
   "outputs": [
    {
     "data": {
      "text/html": [
       "<div>\n",
       "<style scoped>\n",
       "    .dataframe tbody tr th:only-of-type {\n",
       "        vertical-align: middle;\n",
       "    }\n",
       "\n",
       "    .dataframe tbody tr th {\n",
       "        vertical-align: top;\n",
       "    }\n",
       "\n",
       "    .dataframe thead th {\n",
       "        text-align: right;\n",
       "    }\n",
       "</style>\n",
       "<table border=\"1\" class=\"dataframe\">\n",
       "  <thead>\n",
       "    <tr style=\"text-align: right;\">\n",
       "      <th></th>\n",
       "      <th>userId</th>\n",
       "      <th>movieId</th>\n",
       "      <th>tag</th>\n",
       "      <th>timestamp</th>\n",
       "    </tr>\n",
       "  </thead>\n",
       "  <tbody>\n",
       "    <tr>\n",
       "      <th>0</th>\n",
       "      <td>2</td>\n",
       "      <td>60756</td>\n",
       "      <td>funny</td>\n",
       "      <td>1445714994</td>\n",
       "    </tr>\n",
       "    <tr>\n",
       "      <th>1</th>\n",
       "      <td>2</td>\n",
       "      <td>60756</td>\n",
       "      <td>Highly quotable</td>\n",
       "      <td>1445714996</td>\n",
       "    </tr>\n",
       "    <tr>\n",
       "      <th>2</th>\n",
       "      <td>2</td>\n",
       "      <td>60756</td>\n",
       "      <td>will ferrell</td>\n",
       "      <td>1445714992</td>\n",
       "    </tr>\n",
       "    <tr>\n",
       "      <th>3</th>\n",
       "      <td>2</td>\n",
       "      <td>89774</td>\n",
       "      <td>Boxing story</td>\n",
       "      <td>1445715207</td>\n",
       "    </tr>\n",
       "    <tr>\n",
       "      <th>4</th>\n",
       "      <td>2</td>\n",
       "      <td>89774</td>\n",
       "      <td>MMA</td>\n",
       "      <td>1445715200</td>\n",
       "    </tr>\n",
       "  </tbody>\n",
       "</table>\n",
       "</div>"
      ],
      "text/plain": [
       "   userId  movieId              tag   timestamp\n",
       "0       2    60756            funny  1445714994\n",
       "1       2    60756  Highly quotable  1445714996\n",
       "2       2    60756     will ferrell  1445714992\n",
       "3       2    89774     Boxing story  1445715207\n",
       "4       2    89774              MMA  1445715200"
      ]
     },
     "execution_count": 321,
     "metadata": {},
     "output_type": "execute_result"
    }
   ],
   "source": [
    "tags_df.head()"
   ]
  },
  {
   "cell_type": "code",
   "execution_count": 322,
   "metadata": {},
   "outputs": [
    {
     "name": "stdout",
     "output_type": "stream",
     "text": [
      "<class 'pandas.core.frame.DataFrame'>\n",
      "RangeIndex: 3683 entries, 0 to 3682\n",
      "Data columns (total 4 columns):\n",
      " #   Column     Non-Null Count  Dtype \n",
      "---  ------     --------------  ----- \n",
      " 0   userId     3683 non-null   int64 \n",
      " 1   movieId    3683 non-null   int64 \n",
      " 2   tag        3683 non-null   object\n",
      " 3   timestamp  3683 non-null   int64 \n",
      "dtypes: int64(3), object(1)\n",
      "memory usage: 115.2+ KB\n"
     ]
    }
   ],
   "source": [
    "tags_df.info()"
   ]
  },
  {
   "cell_type": "code",
   "execution_count": 323,
   "metadata": {},
   "outputs": [
    {
     "data": {
      "text/plain": [
       "(3683, 4)"
      ]
     },
     "execution_count": 323,
     "metadata": {},
     "output_type": "execute_result"
    }
   ],
   "source": [
    "tags_df.shape"
   ]
  },
  {
   "cell_type": "markdown",
   "metadata": {},
   "source": [
    "* tags_df has 3683 rows and 4 columns . It also has no null values. Columns include UserId, MovieId, tag and timestamp "
   ]
  },
  {
   "cell_type": "code",
   "execution_count": 324,
   "metadata": {},
   "outputs": [
    {
     "data": {
      "text/html": [
       "<div>\n",
       "<style scoped>\n",
       "    .dataframe tbody tr th:only-of-type {\n",
       "        vertical-align: middle;\n",
       "    }\n",
       "\n",
       "    .dataframe tbody tr th {\n",
       "        vertical-align: top;\n",
       "    }\n",
       "\n",
       "    .dataframe thead th {\n",
       "        text-align: right;\n",
       "    }\n",
       "</style>\n",
       "<table border=\"1\" class=\"dataframe\">\n",
       "  <thead>\n",
       "    <tr style=\"text-align: right;\">\n",
       "      <th></th>\n",
       "      <th>userId</th>\n",
       "      <th>movieId</th>\n",
       "      <th>rating</th>\n",
       "      <th>timestamp</th>\n",
       "    </tr>\n",
       "  </thead>\n",
       "  <tbody>\n",
       "    <tr>\n",
       "      <th>0</th>\n",
       "      <td>1</td>\n",
       "      <td>1</td>\n",
       "      <td>4.0</td>\n",
       "      <td>964982703</td>\n",
       "    </tr>\n",
       "    <tr>\n",
       "      <th>1</th>\n",
       "      <td>1</td>\n",
       "      <td>3</td>\n",
       "      <td>4.0</td>\n",
       "      <td>964981247</td>\n",
       "    </tr>\n",
       "    <tr>\n",
       "      <th>2</th>\n",
       "      <td>1</td>\n",
       "      <td>6</td>\n",
       "      <td>4.0</td>\n",
       "      <td>964982224</td>\n",
       "    </tr>\n",
       "    <tr>\n",
       "      <th>3</th>\n",
       "      <td>1</td>\n",
       "      <td>47</td>\n",
       "      <td>5.0</td>\n",
       "      <td>964983815</td>\n",
       "    </tr>\n",
       "    <tr>\n",
       "      <th>4</th>\n",
       "      <td>1</td>\n",
       "      <td>50</td>\n",
       "      <td>5.0</td>\n",
       "      <td>964982931</td>\n",
       "    </tr>\n",
       "  </tbody>\n",
       "</table>\n",
       "</div>"
      ],
      "text/plain": [
       "   userId  movieId  rating  timestamp\n",
       "0       1        1     4.0  964982703\n",
       "1       1        3     4.0  964981247\n",
       "2       1        6     4.0  964982224\n",
       "3       1       47     5.0  964983815\n",
       "4       1       50     5.0  964982931"
      ]
     },
     "execution_count": 324,
     "metadata": {},
     "output_type": "execute_result"
    }
   ],
   "source": [
    "ratings_df.head()"
   ]
  },
  {
   "cell_type": "code",
   "execution_count": 325,
   "metadata": {},
   "outputs": [
    {
     "name": "stdout",
     "output_type": "stream",
     "text": [
      "<class 'pandas.core.frame.DataFrame'>\n",
      "RangeIndex: 100836 entries, 0 to 100835\n",
      "Data columns (total 4 columns):\n",
      " #   Column     Non-Null Count   Dtype  \n",
      "---  ------     --------------   -----  \n",
      " 0   userId     100836 non-null  int64  \n",
      " 1   movieId    100836 non-null  int64  \n",
      " 2   rating     100836 non-null  float64\n",
      " 3   timestamp  100836 non-null  int64  \n",
      "dtypes: float64(1), int64(3)\n",
      "memory usage: 3.1 MB\n"
     ]
    }
   ],
   "source": [
    "ratings_df.info()"
   ]
  },
  {
   "cell_type": "code",
   "execution_count": 326,
   "metadata": {},
   "outputs": [
    {
     "data": {
      "text/plain": [
       "(100836, 4)"
      ]
     },
     "execution_count": 326,
     "metadata": {},
     "output_type": "execute_result"
    }
   ],
   "source": [
    "ratings_df.shape"
   ]
  },
  {
   "cell_type": "code",
   "execution_count": 327,
   "metadata": {},
   "outputs": [
    {
     "name": "stdout",
     "output_type": "stream",
     "text": [
      "----------------------------------------------------------------\n",
      "Number of unique users: 610\n",
      "----------------------------------------------------------------\n",
      "Number of unique movies: 9724\n",
      "----------------------------------------------------------------\n",
      "The full rating matrix will have: 5931640 elements.\n",
      "----------- ----------------------------------------------------\n",
      "Number of ratings: 100836\n",
      "----------- ----------------------------------------------------\n"
     ]
    }
   ],
   "source": [
    "# Movie ID to movie name mapping\n",
    "movie_names = movies_df.set_index('movieId')['title'].to_dict()\n",
    "n_users = len(ratings_df.userId.unique())\n",
    "n_items = len(ratings_df.movieId.unique())\n",
    "print('----------------------------------------------------------------')\n",
    "print(\"Number of unique users:\", n_users)\n",
    "print('----------------------------------------------------------------')\n",
    "print(\"Number of unique movies:\", n_items)\n",
    "print('----------------------------------------------------------------')\n",
    "print(\"The full rating matrix will have:\", n_users*n_items, 'elements.')\n",
    "print('----------- ----------------------------------------------------')\n",
    "print(\"Number of ratings:\", len(ratings_df))\n",
    "print('----------- ----------------------------------------------------')"
   ]
  },
  {
   "cell_type": "code",
   "execution_count": 328,
   "metadata": {},
   "outputs": [
    {
     "data": {
      "text/html": [
       "<div>\n",
       "<style scoped>\n",
       "    .dataframe tbody tr th:only-of-type {\n",
       "        vertical-align: middle;\n",
       "    }\n",
       "\n",
       "    .dataframe tbody tr th {\n",
       "        vertical-align: top;\n",
       "    }\n",
       "\n",
       "    .dataframe thead th {\n",
       "        text-align: right;\n",
       "    }\n",
       "</style>\n",
       "<table border=\"1\" class=\"dataframe\">\n",
       "  <thead>\n",
       "    <tr style=\"text-align: right;\">\n",
       "      <th></th>\n",
       "      <th>count</th>\n",
       "      <th>mean</th>\n",
       "      <th>std</th>\n",
       "      <th>min</th>\n",
       "      <th>25%</th>\n",
       "      <th>50%</th>\n",
       "      <th>75%</th>\n",
       "      <th>max</th>\n",
       "    </tr>\n",
       "  </thead>\n",
       "  <tbody>\n",
       "    <tr>\n",
       "      <th>userId</th>\n",
       "      <td>100836.0</td>\n",
       "      <td>3.261276e+02</td>\n",
       "      <td>1.826185e+02</td>\n",
       "      <td>1.0</td>\n",
       "      <td>1.770000e+02</td>\n",
       "      <td>3.250000e+02</td>\n",
       "      <td>4.770000e+02</td>\n",
       "      <td>6.100000e+02</td>\n",
       "    </tr>\n",
       "    <tr>\n",
       "      <th>movieId</th>\n",
       "      <td>100836.0</td>\n",
       "      <td>1.943530e+04</td>\n",
       "      <td>3.553099e+04</td>\n",
       "      <td>1.0</td>\n",
       "      <td>1.199000e+03</td>\n",
       "      <td>2.991000e+03</td>\n",
       "      <td>8.122000e+03</td>\n",
       "      <td>1.936090e+05</td>\n",
       "    </tr>\n",
       "    <tr>\n",
       "      <th>rating</th>\n",
       "      <td>100836.0</td>\n",
       "      <td>3.501557e+00</td>\n",
       "      <td>1.042529e+00</td>\n",
       "      <td>0.5</td>\n",
       "      <td>3.000000e+00</td>\n",
       "      <td>3.500000e+00</td>\n",
       "      <td>4.000000e+00</td>\n",
       "      <td>5.000000e+00</td>\n",
       "    </tr>\n",
       "    <tr>\n",
       "      <th>timestamp</th>\n",
       "      <td>100836.0</td>\n",
       "      <td>1.205946e+09</td>\n",
       "      <td>2.162610e+08</td>\n",
       "      <td>828124615.0</td>\n",
       "      <td>1.019124e+09</td>\n",
       "      <td>1.186087e+09</td>\n",
       "      <td>1.435994e+09</td>\n",
       "      <td>1.537799e+09</td>\n",
       "    </tr>\n",
       "  </tbody>\n",
       "</table>\n",
       "</div>"
      ],
      "text/plain": [
       "              count          mean           std          min           25%  \\\n",
       "userId     100836.0  3.261276e+02  1.826185e+02          1.0  1.770000e+02   \n",
       "movieId    100836.0  1.943530e+04  3.553099e+04          1.0  1.199000e+03   \n",
       "rating     100836.0  3.501557e+00  1.042529e+00          0.5  3.000000e+00   \n",
       "timestamp  100836.0  1.205946e+09  2.162610e+08  828124615.0  1.019124e+09   \n",
       "\n",
       "                    50%           75%           max  \n",
       "userId     3.250000e+02  4.770000e+02  6.100000e+02  \n",
       "movieId    2.991000e+03  8.122000e+03  1.936090e+05  \n",
       "rating     3.500000e+00  4.000000e+00  5.000000e+00  \n",
       "timestamp  1.186087e+09  1.435994e+09  1.537799e+09  "
      ]
     },
     "execution_count": 328,
     "metadata": {},
     "output_type": "execute_result"
    }
   ],
   "source": [
    "ratings_df.describe().T"
   ]
  },
  {
   "cell_type": "markdown",
   "metadata": {},
   "source": [
    "* rating_df has 100836 rows and 4 columns.  The columns include movieId, ratings and timestamp . The number of unique users is 610, number of unique movies 9724, and number of rating 100836 "
   ]
  },
  {
   "cell_type": "markdown",
   "metadata": {},
   "source": [
    "## Data preparation "
   ]
  },
  {
   "cell_type": "markdown",
   "metadata": {},
   "source": [
    "### Merging the tag data set with the movies data set\n"
   ]
  },
  {
   "cell_type": "code",
   "execution_count": 329,
   "metadata": {},
   "outputs": [],
   "source": [
    "# dropping the timestamp which is not going to be used \n",
    "tags_df.drop(columns= ['timestamp'], inplace= True)"
   ]
  },
  {
   "cell_type": "code",
   "execution_count": 330,
   "metadata": {},
   "outputs": [],
   "source": [
    "# convert tags to lowercase\n",
    "tags_df['tag'] = tags_df['tag'].str.lower()"
   ]
  },
  {
   "cell_type": "code",
   "execution_count": 331,
   "metadata": {},
   "outputs": [
    {
     "data": {
      "text/html": [
       "<div>\n",
       "<style scoped>\n",
       "    .dataframe tbody tr th:only-of-type {\n",
       "        vertical-align: middle;\n",
       "    }\n",
       "\n",
       "    .dataframe tbody tr th {\n",
       "        vertical-align: top;\n",
       "    }\n",
       "\n",
       "    .dataframe thead th {\n",
       "        text-align: right;\n",
       "    }\n",
       "</style>\n",
       "<table border=\"1\" class=\"dataframe\">\n",
       "  <thead>\n",
       "    <tr style=\"text-align: right;\">\n",
       "      <th></th>\n",
       "      <th>movieId</th>\n",
       "      <th>tag</th>\n",
       "    </tr>\n",
       "  </thead>\n",
       "  <tbody>\n",
       "    <tr>\n",
       "      <th>0</th>\n",
       "      <td>1</td>\n",
       "      <td>pixar pixar fun</td>\n",
       "    </tr>\n",
       "    <tr>\n",
       "      <th>1</th>\n",
       "      <td>2</td>\n",
       "      <td>fantasy magic board game robin williams game</td>\n",
       "    </tr>\n",
       "    <tr>\n",
       "      <th>2</th>\n",
       "      <td>3</td>\n",
       "      <td>moldy old</td>\n",
       "    </tr>\n",
       "    <tr>\n",
       "      <th>3</th>\n",
       "      <td>5</td>\n",
       "      <td>pregnancy remake</td>\n",
       "    </tr>\n",
       "    <tr>\n",
       "      <th>4</th>\n",
       "      <td>7</td>\n",
       "      <td>remake</td>\n",
       "    </tr>\n",
       "    <tr>\n",
       "      <th>...</th>\n",
       "      <td>...</td>\n",
       "      <td>...</td>\n",
       "    </tr>\n",
       "    <tr>\n",
       "      <th>1567</th>\n",
       "      <td>183611</td>\n",
       "      <td>comedy funny rachel mcadams</td>\n",
       "    </tr>\n",
       "    <tr>\n",
       "      <th>1568</th>\n",
       "      <td>184471</td>\n",
       "      <td>adventure alicia vikander video game adaptation</td>\n",
       "    </tr>\n",
       "    <tr>\n",
       "      <th>1569</th>\n",
       "      <td>187593</td>\n",
       "      <td>josh brolin ryan reynolds sarcasm</td>\n",
       "    </tr>\n",
       "    <tr>\n",
       "      <th>1570</th>\n",
       "      <td>187595</td>\n",
       "      <td>emilia clarke star wars</td>\n",
       "    </tr>\n",
       "    <tr>\n",
       "      <th>1571</th>\n",
       "      <td>193565</td>\n",
       "      <td>anime comedy gintama remaster</td>\n",
       "    </tr>\n",
       "  </tbody>\n",
       "</table>\n",
       "<p>1572 rows × 2 columns</p>\n",
       "</div>"
      ],
      "text/plain": [
       "      movieId                                              tag\n",
       "0           1                                  pixar pixar fun\n",
       "1           2     fantasy magic board game robin williams game\n",
       "2           3                                        moldy old\n",
       "3           5                                 pregnancy remake\n",
       "4           7                                           remake\n",
       "...       ...                                              ...\n",
       "1567   183611                      comedy funny rachel mcadams\n",
       "1568   184471  adventure alicia vikander video game adaptation\n",
       "1569   187593                josh brolin ryan reynolds sarcasm\n",
       "1570   187595                          emilia clarke star wars\n",
       "1571   193565                    anime comedy gintama remaster\n",
       "\n",
       "[1572 rows x 2 columns]"
      ]
     },
     "execution_count": 331,
     "metadata": {},
     "output_type": "execute_result"
    }
   ],
   "source": [
    "# Aggregate all tags per movie\n",
    "movie_tags = tags_df.groupby('movieId')['tag'].apply(lambda x: \" \".join (x)).reset_index()\n",
    "movie_tags"
   ]
  },
  {
   "cell_type": "code",
   "execution_count": 332,
   "metadata": {},
   "outputs": [
    {
     "data": {
      "text/html": [
       "<div>\n",
       "<style scoped>\n",
       "    .dataframe tbody tr th:only-of-type {\n",
       "        vertical-align: middle;\n",
       "    }\n",
       "\n",
       "    .dataframe tbody tr th {\n",
       "        vertical-align: top;\n",
       "    }\n",
       "\n",
       "    .dataframe thead th {\n",
       "        text-align: right;\n",
       "    }\n",
       "</style>\n",
       "<table border=\"1\" class=\"dataframe\">\n",
       "  <thead>\n",
       "    <tr style=\"text-align: right;\">\n",
       "      <th></th>\n",
       "      <th>movieId</th>\n",
       "      <th>title</th>\n",
       "      <th>genres</th>\n",
       "      <th>tag</th>\n",
       "    </tr>\n",
       "  </thead>\n",
       "  <tbody>\n",
       "    <tr>\n",
       "      <th>0</th>\n",
       "      <td>1</td>\n",
       "      <td>Toy Story (1995)</td>\n",
       "      <td>Adventure|Animation|Children|Comedy|Fantasy</td>\n",
       "      <td>pixar pixar fun</td>\n",
       "    </tr>\n",
       "    <tr>\n",
       "      <th>1</th>\n",
       "      <td>2</td>\n",
       "      <td>Jumanji (1995)</td>\n",
       "      <td>Adventure|Children|Fantasy</td>\n",
       "      <td>fantasy magic board game robin williams game</td>\n",
       "    </tr>\n",
       "    <tr>\n",
       "      <th>2</th>\n",
       "      <td>3</td>\n",
       "      <td>Grumpier Old Men (1995)</td>\n",
       "      <td>Comedy|Romance</td>\n",
       "      <td>moldy old</td>\n",
       "    </tr>\n",
       "    <tr>\n",
       "      <th>3</th>\n",
       "      <td>4</td>\n",
       "      <td>Waiting to Exhale (1995)</td>\n",
       "      <td>Comedy|Drama|Romance</td>\n",
       "      <td>NaN</td>\n",
       "    </tr>\n",
       "    <tr>\n",
       "      <th>4</th>\n",
       "      <td>5</td>\n",
       "      <td>Father of the Bride Part II (1995)</td>\n",
       "      <td>Comedy</td>\n",
       "      <td>pregnancy remake</td>\n",
       "    </tr>\n",
       "  </tbody>\n",
       "</table>\n",
       "</div>"
      ],
      "text/plain": [
       "   movieId                               title  \\\n",
       "0        1                    Toy Story (1995)   \n",
       "1        2                      Jumanji (1995)   \n",
       "2        3             Grumpier Old Men (1995)   \n",
       "3        4            Waiting to Exhale (1995)   \n",
       "4        5  Father of the Bride Part II (1995)   \n",
       "\n",
       "                                        genres  \\\n",
       "0  Adventure|Animation|Children|Comedy|Fantasy   \n",
       "1                   Adventure|Children|Fantasy   \n",
       "2                               Comedy|Romance   \n",
       "3                         Comedy|Drama|Romance   \n",
       "4                                       Comedy   \n",
       "\n",
       "                                            tag  \n",
       "0                               pixar pixar fun  \n",
       "1  fantasy magic board game robin williams game  \n",
       "2                                     moldy old  \n",
       "3                                           NaN  \n",
       "4                              pregnancy remake  "
      ]
     },
     "execution_count": 332,
     "metadata": {},
     "output_type": "execute_result"
    }
   ],
   "source": [
    "# merge all tags with movies dataset \n",
    "movies_df = movies_df.merge(movie_tags, on='movieId',how='left')\n",
    "movies_df.head()"
   ]
  },
  {
   "cell_type": "code",
   "execution_count": 333,
   "metadata": {},
   "outputs": [],
   "source": [
    "# fill NaN feature with empty string \n",
    "movies_df['tag'].fillna(' ', inplace = True)"
   ]
  },
  {
   "cell_type": "code",
   "execution_count": 334,
   "metadata": {},
   "outputs": [
    {
     "data": {
      "text/html": [
       "<div>\n",
       "<style scoped>\n",
       "    .dataframe tbody tr th:only-of-type {\n",
       "        vertical-align: middle;\n",
       "    }\n",
       "\n",
       "    .dataframe tbody tr th {\n",
       "        vertical-align: top;\n",
       "    }\n",
       "\n",
       "    .dataframe thead th {\n",
       "        text-align: right;\n",
       "    }\n",
       "</style>\n",
       "<table border=\"1\" class=\"dataframe\">\n",
       "  <thead>\n",
       "    <tr style=\"text-align: right;\">\n",
       "      <th></th>\n",
       "      <th>movieId</th>\n",
       "      <th>title</th>\n",
       "      <th>genres</th>\n",
       "      <th>tag</th>\n",
       "      <th>combined_feature</th>\n",
       "    </tr>\n",
       "  </thead>\n",
       "  <tbody>\n",
       "    <tr>\n",
       "      <th>0</th>\n",
       "      <td>1</td>\n",
       "      <td>Toy Story (1995)</td>\n",
       "      <td>Adventure|Animation|Children|Comedy|Fantasy</td>\n",
       "      <td>pixar pixar fun</td>\n",
       "      <td>Adventure|Animation|Children|Comedy|Fantasy pi...</td>\n",
       "    </tr>\n",
       "    <tr>\n",
       "      <th>1</th>\n",
       "      <td>2</td>\n",
       "      <td>Jumanji (1995)</td>\n",
       "      <td>Adventure|Children|Fantasy</td>\n",
       "      <td>fantasy magic board game robin williams game</td>\n",
       "      <td>Adventure|Children|Fantasy fantasy magic board...</td>\n",
       "    </tr>\n",
       "    <tr>\n",
       "      <th>2</th>\n",
       "      <td>3</td>\n",
       "      <td>Grumpier Old Men (1995)</td>\n",
       "      <td>Comedy|Romance</td>\n",
       "      <td>moldy old</td>\n",
       "      <td>Comedy|Romance moldy old</td>\n",
       "    </tr>\n",
       "    <tr>\n",
       "      <th>3</th>\n",
       "      <td>4</td>\n",
       "      <td>Waiting to Exhale (1995)</td>\n",
       "      <td>Comedy|Drama|Romance</td>\n",
       "      <td></td>\n",
       "      <td>Comedy|Drama|Romance</td>\n",
       "    </tr>\n",
       "    <tr>\n",
       "      <th>4</th>\n",
       "      <td>5</td>\n",
       "      <td>Father of the Bride Part II (1995)</td>\n",
       "      <td>Comedy</td>\n",
       "      <td>pregnancy remake</td>\n",
       "      <td>Comedy pregnancy remake</td>\n",
       "    </tr>\n",
       "  </tbody>\n",
       "</table>\n",
       "</div>"
      ],
      "text/plain": [
       "   movieId                               title  \\\n",
       "0        1                    Toy Story (1995)   \n",
       "1        2                      Jumanji (1995)   \n",
       "2        3             Grumpier Old Men (1995)   \n",
       "3        4            Waiting to Exhale (1995)   \n",
       "4        5  Father of the Bride Part II (1995)   \n",
       "\n",
       "                                        genres  \\\n",
       "0  Adventure|Animation|Children|Comedy|Fantasy   \n",
       "1                   Adventure|Children|Fantasy   \n",
       "2                               Comedy|Romance   \n",
       "3                         Comedy|Drama|Romance   \n",
       "4                                       Comedy   \n",
       "\n",
       "                                            tag  \\\n",
       "0                               pixar pixar fun   \n",
       "1  fantasy magic board game robin williams game   \n",
       "2                                     moldy old   \n",
       "3                                                 \n",
       "4                              pregnancy remake   \n",
       "\n",
       "                                    combined_feature  \n",
       "0  Adventure|Animation|Children|Comedy|Fantasy pi...  \n",
       "1  Adventure|Children|Fantasy fantasy magic board...  \n",
       "2                           Comedy|Romance moldy old  \n",
       "3                             Comedy|Drama|Romance    \n",
       "4                            Comedy pregnancy remake  "
      ]
     },
     "execution_count": 334,
     "metadata": {},
     "output_type": "execute_result"
    }
   ],
   "source": [
    "#combining genre and tags into one feature \n",
    "movies_df['combined_feature'] = movies_df['genres'] +' '+ movies_df['tag']\n",
    "movies_df.head()"
   ]
  },
  {
   "cell_type": "code",
   "execution_count": 335,
   "metadata": {},
   "outputs": [
    {
     "data": {
      "text/html": [
       "<div>\n",
       "<style scoped>\n",
       "    .dataframe tbody tr th:only-of-type {\n",
       "        vertical-align: middle;\n",
       "    }\n",
       "\n",
       "    .dataframe tbody tr th {\n",
       "        vertical-align: top;\n",
       "    }\n",
       "\n",
       "    .dataframe thead th {\n",
       "        text-align: right;\n",
       "    }\n",
       "</style>\n",
       "<table border=\"1\" class=\"dataframe\">\n",
       "  <thead>\n",
       "    <tr style=\"text-align: right;\">\n",
       "      <th></th>\n",
       "      <th>userId</th>\n",
       "      <th>movieId</th>\n",
       "      <th>rating</th>\n",
       "      <th>timestamp</th>\n",
       "      <th>title</th>\n",
       "      <th>genres</th>\n",
       "      <th>tag</th>\n",
       "      <th>combined_feature</th>\n",
       "    </tr>\n",
       "  </thead>\n",
       "  <tbody>\n",
       "    <tr>\n",
       "      <th>0</th>\n",
       "      <td>1</td>\n",
       "      <td>1</td>\n",
       "      <td>4.0</td>\n",
       "      <td>964982703</td>\n",
       "      <td>Toy Story (1995)</td>\n",
       "      <td>Adventure|Animation|Children|Comedy|Fantasy</td>\n",
       "      <td>pixar pixar fun</td>\n",
       "      <td>Adventure|Animation|Children|Comedy|Fantasy pi...</td>\n",
       "    </tr>\n",
       "    <tr>\n",
       "      <th>1</th>\n",
       "      <td>1</td>\n",
       "      <td>3</td>\n",
       "      <td>4.0</td>\n",
       "      <td>964981247</td>\n",
       "      <td>Grumpier Old Men (1995)</td>\n",
       "      <td>Comedy|Romance</td>\n",
       "      <td>moldy old</td>\n",
       "      <td>Comedy|Romance moldy old</td>\n",
       "    </tr>\n",
       "    <tr>\n",
       "      <th>2</th>\n",
       "      <td>1</td>\n",
       "      <td>6</td>\n",
       "      <td>4.0</td>\n",
       "      <td>964982224</td>\n",
       "      <td>Heat (1995)</td>\n",
       "      <td>Action|Crime|Thriller</td>\n",
       "      <td></td>\n",
       "      <td>Action|Crime|Thriller</td>\n",
       "    </tr>\n",
       "    <tr>\n",
       "      <th>3</th>\n",
       "      <td>1</td>\n",
       "      <td>47</td>\n",
       "      <td>5.0</td>\n",
       "      <td>964983815</td>\n",
       "      <td>Seven (a.k.a. Se7en) (1995)</td>\n",
       "      <td>Mystery|Thriller</td>\n",
       "      <td>mystery twist ending serial killer</td>\n",
       "      <td>Mystery|Thriller mystery twist ending serial k...</td>\n",
       "    </tr>\n",
       "    <tr>\n",
       "      <th>4</th>\n",
       "      <td>1</td>\n",
       "      <td>50</td>\n",
       "      <td>5.0</td>\n",
       "      <td>964982931</td>\n",
       "      <td>Usual Suspects, The (1995)</td>\n",
       "      <td>Crime|Mystery|Thriller</td>\n",
       "      <td>mindfuck suspense thriller tricky twist ending...</td>\n",
       "      <td>Crime|Mystery|Thriller mindfuck suspense thril...</td>\n",
       "    </tr>\n",
       "  </tbody>\n",
       "</table>\n",
       "</div>"
      ],
      "text/plain": [
       "   userId  movieId  rating  timestamp                        title  \\\n",
       "0       1        1     4.0  964982703             Toy Story (1995)   \n",
       "1       1        3     4.0  964981247      Grumpier Old Men (1995)   \n",
       "2       1        6     4.0  964982224                  Heat (1995)   \n",
       "3       1       47     5.0  964983815  Seven (a.k.a. Se7en) (1995)   \n",
       "4       1       50     5.0  964982931   Usual Suspects, The (1995)   \n",
       "\n",
       "                                        genres  \\\n",
       "0  Adventure|Animation|Children|Comedy|Fantasy   \n",
       "1                               Comedy|Romance   \n",
       "2                        Action|Crime|Thriller   \n",
       "3                             Mystery|Thriller   \n",
       "4                       Crime|Mystery|Thriller   \n",
       "\n",
       "                                                 tag  \\\n",
       "0                                    pixar pixar fun   \n",
       "1                                          moldy old   \n",
       "2                                                      \n",
       "3                 mystery twist ending serial killer   \n",
       "4  mindfuck suspense thriller tricky twist ending...   \n",
       "\n",
       "                                    combined_feature  \n",
       "0  Adventure|Animation|Children|Comedy|Fantasy pi...  \n",
       "1                           Comedy|Romance moldy old  \n",
       "2                            Action|Crime|Thriller    \n",
       "3  Mystery|Thriller mystery twist ending serial k...  \n",
       "4  Crime|Mystery|Thriller mindfuck suspense thril...  "
      ]
     },
     "execution_count": 335,
     "metadata": {},
     "output_type": "execute_result"
    }
   ],
   "source": [
    "#merge rating and movies \n",
    "merged_df = ratings_df.merge(movies_df,on ='movieId', how='left')\n",
    "merged_df.head()"
   ]
  },
  {
   "cell_type": "code",
   "execution_count": 336,
   "metadata": {},
   "outputs": [
    {
     "data": {
      "text/plain": [
       "(100836, 8)"
      ]
     },
     "execution_count": 336,
     "metadata": {},
     "output_type": "execute_result"
    }
   ],
   "source": [
    "merged_df.shape"
   ]
  },
  {
   "cell_type": "code",
   "execution_count": 337,
   "metadata": {},
   "outputs": [
    {
     "name": "stdout",
     "output_type": "stream",
     "text": [
      "      movieId                                      title  \\\n",
      "97        110                          Braveheart (1995)   \n",
      "224       260  Star Wars: Episode IV - A New Hope (1977)   \n",
      "257       296                        Pulp Fiction (1994)   \n",
      "277       318           Shawshank Redemption, The (1994)   \n",
      "314       356                        Forrest Gump (1994)   \n",
      "418       480                       Jurassic Park (1993)   \n",
      "461       527                    Schindler's List (1993)   \n",
      "507       589          Terminator 2: Judgment Day (1991)   \n",
      "510       593           Silence of the Lambs, The (1991)   \n",
      "1939     2571                         Matrix, The (1999)   \n",
      "\n",
      "                                genres  \\\n",
      "97                    Action|Drama|War   \n",
      "224            Action|Adventure|Sci-Fi   \n",
      "257        Comedy|Crime|Drama|Thriller   \n",
      "277                        Crime|Drama   \n",
      "314           Comedy|Drama|Romance|War   \n",
      "418   Action|Adventure|Sci-Fi|Thriller   \n",
      "461                          Drama|War   \n",
      "507                      Action|Sci-Fi   \n",
      "510              Crime|Horror|Thriller   \n",
      "1939            Action|Sci-Fi|Thriller   \n",
      "\n",
      "                                                    tag  \\\n",
      "97    beautiful scenery epic historical inspirationa...   \n",
      "224   classic space action action sci-fi epic great ...   \n",
      "257   good dialogue great soundtrack non-linear cult...   \n",
      "277   prison stephen king wrongful imprisonment morg...   \n",
      "314   shrimp vietnam bubba gump shrimp lieutenant da...   \n",
      "418                                            dinosaur   \n",
      "461   moving thought-provoking holocaust based on a ...   \n",
      "507   apocalypse arnold schwarzenegger nuclear war s...   \n",
      "510   hannibal lector disturbing drama gothic psycho...   \n",
      "1939  martial arts sci-fi alternate universe philoso...   \n",
      "\n",
      "                                       combined_feature  \n",
      "97    Action|Drama|War beautiful scenery epic histor...  \n",
      "224   Action|Adventure|Sci-Fi classic space action a...  \n",
      "257   Comedy|Crime|Drama|Thriller good dialogue grea...  \n",
      "277   Crime|Drama prison stephen king wrongful impri...  \n",
      "314   Comedy|Drama|Romance|War shrimp vietnam bubba ...  \n",
      "418           Action|Adventure|Sci-Fi|Thriller dinosaur  \n",
      "461   Drama|War moving thought-provoking holocaust b...  \n",
      "507   Action|Sci-Fi apocalypse arnold schwarzenegger...  \n",
      "510   Crime|Horror|Thriller hannibal lector disturbi...  \n",
      "1939  Action|Sci-Fi|Thriller martial arts sci-fi alt...  \n"
     ]
    }
   ],
   "source": [
    "#Top ten most rated movies \n",
    "top_movies = merged_df['movieId'].value_counts().head(10)\n",
    "print(movies_df[movies_df['movieId'].isin(top_movies.index)])"
   ]
  },
  {
   "cell_type": "markdown",
   "metadata": {},
   "source": [
    "Distribution of ratings"
   ]
  },
  {
   "cell_type": "code",
   "execution_count": 358,
   "metadata": {},
   "outputs": [
    {
     "data": {
      "image/png": "[encoded data removed]",
      "text/plain": [
       "<Figure size 1000x600 with 1 Axes>"
      ]
     },
     "metadata": {},
     "output_type": "display_data"
    }
   ],
   "source": [
    "# Set plot style\n",
    "sns.set(style=\"whitegrid\")\n",
    "\n",
    "# Plot distribution of movie ratings\n",
    "plt.figure(figsize=(10, 6))\n",
    "sns.histplot(ratings_df[\"rating\"], bins=10, kde=True, color=\"blue\")\n",
    "plt.xlabel(\"Rating\")\n",
    "plt.ylabel(\"Count\")\n",
    "plt.title(\"Distribution of Movie Ratings\")\n",
    "plt.show()"
   ]
  },
  {
   "cell_type": "markdown",
   "metadata": {},
   "source": [
    "* The rating distribution is not normally distributed , most of the movies are rated 3 and 4."
   ]
  },
  {
   "cell_type": "code",
   "execution_count": 339,
   "metadata": {},
   "outputs": [
    {
     "name": "stderr",
     "output_type": "stream",
     "text": [
      "C:\\Users\\ondie\\AppData\\Local\\Temp\\ipykernel_5344\\2097743499.py:7: FutureWarning: \n",
      "\n",
      "Passing `palette` without assigning `hue` is deprecated and will be removed in v0.14.0. Assign the `y` variable to `hue` and set `legend=False` for the same effect.\n",
      "\n",
      "  sns.barplot(y=top_movies_df['title'], x=top_movies_df['count'], palette='viridis')\n"
     ]
    },
    {
     "data": {
      "image/png": "[encoded data removed]",
      "text/plain": [
       "<Figure size 1200x600 with 1 Axes>"
      ]
     },
     "metadata": {},
     "output_type": "display_data"
    }
   ],
   "source": [
    "#Top 10 most rated movies (Bar Chart)\n",
    "top_movies_df = merged_df['movieId'].value_counts().head(10).reset_index()\n",
    "top_movies_df.columns = ['movieId', 'count']\n",
    "top_movies_df = top_movies_df.merge(movies_df[['movieId', 'title']], on='movieId')\n",
    "\n",
    "plt.figure(figsize=(12, 6))\n",
    "sns.barplot(y=top_movies_df['title'], x=top_movies_df['count'], palette='viridis')\n",
    "plt.xlabel('Number of Ratings')\n",
    "plt.ylabel('Movie Title')\n",
    "plt.title('Top 10 Most Rated Movies')\n",
    "plt.show()\n",
    "\n"
   ]
  },
  {
   "cell_type": "markdown",
   "metadata": {},
   "source": [
    "* The above chart shows the top 10 most rated movies in the dataset , the top three being forest gump, Shawshank Redemption and Pulp Fiction "
   ]
  },
  {
   "cell_type": "code",
   "execution_count": 340,
   "metadata": {},
   "outputs": [
    {
     "data": {
      "image/png": "[encoded data removed]",
      "text/plain": [
       "<Figure size 1000x500 with 1 Axes>"
      ]
     },
     "metadata": {},
     "output_type": "display_data"
    }
   ],
   "source": [
    "# Number of Ratings per User\n",
    "plt.figure(figsize=(10, 5))\n",
    "sns.histplot(ratings_df['userId'].value_counts(), bins=50, color='purple')\n",
    "plt.xlabel('Number of Ratings per User')\n",
    "plt.ylabel('Count of Users')\n",
    "plt.title('Distribution of Ratings per User')\n",
    "plt.show()\n"
   ]
  },
  {
   "cell_type": "markdown",
   "metadata": {},
   "source": [
    "* The chart shows that some users made a lot of rating over 500 which is an outlier hence could have skewed the data "
   ]
  },
  {
   "cell_type": "markdown",
   "metadata": {},
   "source": [
    "## Modelling "
   ]
  },
  {
   "cell_type": "markdown",
   "metadata": {},
   "source": [
    "###  Collaborative filtering (SVD) Modelling\n",
    "Using Surprise SVD to predict user preference"
   ]
  },
  {
   "cell_type": "code",
   "execution_count": 341,
   "metadata": {},
   "outputs": [],
   "source": [
    "#Define rating scale \n",
    "reader = Reader(rating_scale= (0.5, 5.0))"
   ]
  },
  {
   "cell_type": "code",
   "execution_count": 342,
   "metadata": {},
   "outputs": [],
   "source": [
    "# load dataset into surprise \n",
    "data = Dataset.load_from_df(merged_df[['userId', 'movieId', 'rating']],reader)"
   ]
  },
  {
   "cell_type": "code",
   "execution_count": 343,
   "metadata": {},
   "outputs": [],
   "source": [
    "# splitting data into training and testing \n",
    "trainset, testset = train_test_split(data, test_size=0.2, random_state=42)"
   ]
  },
  {
   "cell_type": "code",
   "execution_count": 344,
   "metadata": {},
   "outputs": [
    {
     "data": {
      "text/plain": [
       "<surprise.prediction_algorithms.matrix_factorization.SVD at 0x2021431b6d0>"
      ]
     },
     "execution_count": 344,
     "metadata": {},
     "output_type": "execute_result"
    }
   ],
   "source": [
    "# Training the model \n",
    "svd_model = SVD(n_factors =50,biased=True,random_state=42)\n",
    "svd_model.fit(trainset)"
   ]
  },
  {
   "cell_type": "code",
   "execution_count": 345,
   "metadata": {},
   "outputs": [
    {
     "name": "stdout",
     "output_type": "stream",
     "text": [
      "Evaluating RMSE, MAE of algorithm SVD on 5 split(s).\n",
      "\n",
      "                  Fold 1  Fold 2  Fold 3  Fold 4  Fold 5  Mean    Std     \n",
      "RMSE (testset)    0.8735  0.8724  0.8645  0.8712  0.8700  0.8703  0.0031  \n",
      "MAE (testset)     0.6701  0.6720  0.6637  0.6692  0.6695  0.6689  0.0028  \n",
      "Fit time          5.67    4.47    4.34    4.41    4.32    4.64    0.52    \n",
      "Test time         0.28    0.21    0.19    0.19    0.28    0.23    0.04    \n"
     ]
    },
    {
     "data": {
      "text/plain": [
       "{'test_rmse': array([0.87349342, 0.87236174, 0.86448957, 0.8711758 , 0.8700368 ]),\n",
       " 'test_mae': array([0.67006074, 0.67204025, 0.66365075, 0.66917126, 0.66945668]),\n",
       " 'fit_time': (5.673547983169556,\n",
       "  4.468790769577026,\n",
       "  4.343029260635376,\n",
       "  4.411278963088989,\n",
       "  4.319348573684692),\n",
       " 'test_time': (0.275773286819458,\n",
       "  0.20708751678466797,\n",
       "  0.18533658981323242,\n",
       "  0.1878514289855957,\n",
       "  0.277691125869751)}"
      ]
     },
     "execution_count": 345,
     "metadata": {},
     "output_type": "execute_result"
    }
   ],
   "source": [
    "#evaluate model\n",
    "cross_validate(svd_model, data, measures=['RMSE', 'MAE'], cv=5, verbose=True)\n",
    " "
   ]
  },
  {
   "cell_type": "code",
   "execution_count": 346,
   "metadata": {},
   "outputs": [
    {
     "name": "stdout",
     "output_type": "stream",
     "text": [
      "----------------------------------------------------------------\n",
      "MAE:  0.5795\n",
      "RMSE: 0.7518\n",
      "----------------------------------------------------------------\n"
     ]
    }
   ],
   "source": [
    "# model accuracy\n",
    "predictions = svd_model.test(testset)\n",
    "print('----------------------------------------------------------------')\n",
    "mae = accuracy.mae(predictions)\n",
    "rmse = accuracy.rmse(predictions)\n",
    "print('----------------------------------------------------------------')"
   ]
  },
  {
   "cell_type": "markdown",
   "metadata": {},
   "source": [
    "Interpretation of model accuracy \n",
    "* The mean absolute error of 0.5781  indicate dthat on overage the predicted ratings deviates from the actual rating by 0.58 which is significant \n",
    "* The root mean squared error of 0.75 indicates that some oredictions devialte significantly \n",
    "* lower value so both RMSE and MAE indicate btter model performance "
   ]
  },
  {
   "cell_type": "markdown",
   "metadata": {},
   "source": [
    "Predict movie ratings "
   ]
  },
  {
   "cell_type": "code",
   "execution_count": 347,
   "metadata": {},
   "outputs": [],
   "source": [
    "# Function to get movie recommendations using SVD\n",
    "def get_svd_recommendations(user_id, svd_model, movies_df, ratings_df, top_n=5):\n",
    "    rated_movies = ratings_df[ratings_df[\"userId\"] == user_id][\"movieId\"].tolist()\n",
    "\n",
    "    predictions = []\n",
    "    for movie_id in movies_df[\"movieId\"].unique():\n",
    "        if movie_id not in rated_movies:\n",
    "            pred = svd_model.predict(user_id, movie_id)\n",
    "            predictions.append((movie_id, pred.est))\n",
    "\n",
    "    # Sort by predicted rating\n",
    "    predictions.sort(key=lambda x: x[1], reverse=True)\n",
    "    recommended_movies = movies_df[movies_df[\"movieId\"].isin([m[0] for m in predictions[:top_n]])]\n",
    "    \n",
    "    return recommended_movies"
   ]
  },
  {
   "cell_type": "markdown",
   "metadata": {},
   "source": [
    "VIsualization of model Accuracy "
   ]
  },
  {
   "cell_type": "code",
   "execution_count": null,
   "metadata": {},
   "outputs": [
    {
     "data": {
      "image/png": "[encoded data removed]",
      "text/plain": [
       "<Figure size 800x600 with 1 Axes>"
      ]
     },
     "metadata": {},
     "output_type": "display_data"
    }
   ],
   "source": [
    "#Extract actual vs. predicted ratings for visualization\n",
    "actual_ratings = [pred.r_ui for pred in predictions]\n",
    "predicted_ratings = [pred.est for pred in predictions]\n",
    "\n",
    "# Create a scatter plot of actual vs predicted ratings\n",
    "plt.figure(figsize=(8, 6))\n",
    "sns.scatterplot(x=actual_ratings, y=predicted_ratings, alpha=0.5)\n",
    "plt.xlabel(\"Actual Ratings\")\n",
    "plt.ylabel(\"Predicted Ratings\")\n",
    "plt.title(\"Actual vs Predicted Ratings (SVD Model)\")\n",
    "plt.axline((0, 0), slope=1, color='red', linestyle='--', label=\"Perfect Fit\")\n",
    "plt.legend()\n",
    "plt.show()\n"
   ]
  },
  {
   "cell_type": "markdown",
   "metadata": {},
   "source": [
    "* The graph shows that the model has high predicted ratings for low rated movies and high rated movies have low predictied ratings. "
   ]
  },
  {
   "cell_type": "markdown",
   "metadata": {},
   "source": [
    "### content based filtering \n",
    "Using TF-IDF and cosine similarity to recommend movies based on combined features "
   ]
  },
  {
   "cell_type": "code",
   "execution_count": 349,
   "metadata": {},
   "outputs": [],
   "source": [
    "# using TF-IDF to combined features\n",
    "content_pipeline= Pipeline([\n",
    "    ('tdidf',  TfidfVectorizer(stop_words= 'english'))])\n",
    "tfidf_matrix = content_pipeline.fit_transform(movies_df[\"combined_feature\"])\n",
    "cosine_sim = linear_kernel(tfidf_matrix,tfidf_matrix)"
   ]
  },
  {
   "cell_type": "code",
   "execution_count": 350,
   "metadata": {},
   "outputs": [],
   "source": [
    "# Function to get content-based recommendations\n",
    "def get_content_based_recommendations(movie_id, movies_df, tfidf_matrix, top_n=5):\n",
    "    movie_index = movies_df.index[movies_df[\"movieId\"] == movie_id].tolist()[0]\n",
    "    cosine_similarities = linear_kernel(tfidf_matrix[movie_index], tfidf_matrix).flatten()\n",
    "\n",
    "    # Get top N similar movies\n",
    "    similar_indices = cosine_similarities.argsort()[-(top_n+1):-1][::-1]\n",
    "    recommended_movies = movies_df.iloc[similar_indices]\n",
    "    \n",
    "    return recommended_movies"
   ]
  },
  {
   "cell_type": "code",
   "execution_count": 351,
   "metadata": {},
   "outputs": [
    {
     "name": "stdout",
     "output_type": "stream",
     "text": [
      "SVD-based recommendations for User 1:\n",
      "                                                 title\n",
      "602  Dr. Strangelove or: How I Learned to Stop Worr...\n",
      "694                                  Casablanca (1942)\n",
      "841                   Streetcar Named Desire, A (1951)\n",
      "878     Cinema Paradiso (Nuovo cinema Paradiso) (1989)\n",
      "924    Grand Day Out with Wallace and Gromit, A (1989)\n",
      "Content-based recommendations for User 1 based on their top-rated movie:\n",
      "                                           title\n",
      "7344                               Baarìa (2009)\n",
      "554                           Underground (1995)\n",
      "5453  Carabineers, The (Carabiniers, Les) (1963)\n",
      "726                    To Be or Not to Be (1942)\n",
      "9553                          War Machine (2017)\n"
     ]
    }
   ],
   "source": [
    "#Get recommendations for a specific user using SVD\n",
    "specific_user_id = 1  # Change this value as needed\n",
    "svd_recommendations = get_svd_recommendations(specific_user_id, svd_model, movies_df, ratings_df)\n",
    "\n",
    "print(f\"SVD-based recommendations for User {specific_user_id}:\")\n",
    "print(svd_recommendations[['title']])\n",
    "\n",
    "# Get a content-based recommendation for a specific user\n",
    "user_top_movie_id = ratings_df[ratings_df['userId'] == specific_user_id].sort_values(by='rating', ascending=False).iloc[0]['movieId']\n",
    "content_recommendations = get_content_based_recommendations(user_top_movie_id, movies_df, tfidf_matrix)\n",
    "\n",
    "print(f\"Content-based recommendations for User {specific_user_id} based on their top-rated movie:\")\n",
    "print(content_recommendations[['title']])\n"
   ]
  },
  {
   "cell_type": "markdown",
   "metadata": {},
   "source": [
    "### Hybrid recommendation "
   ]
  },
  {
   "cell_type": "code",
   "execution_count": null,
   "metadata": {},
   "outputs": [],
   "source": [
    "\"\"\"\n",
    "    Hybrid recommendation system combines collaborative filtering (SVD) and content-based filtering.\n",
    "    If user has rated at least 5 movies, use collaborative filtering (SVD).\n",
    "    If user has rated less than 5 movies, use content-based filtering and recommend the top-rated movie.\n",
    "    If user has not rated any movies, recommend the top-rated movies to address cold start problem\n",
    "\"\"\"\n",
    "def hybrid_recommendation(user_id, svd_model, movies_df, ratings_df, tfidf_matrix, top_n=5):   \n",
    "    user_rated_movies = ratings_df[ratings_df[\"userId\"] == user_id]\n",
    "\n",
    "    if len(user_rated_movies) >= 5:\n",
    "        recommended_movies = get_svd_recommendations(user_id, svd_model, movies_df, ratings_df, top_n)\n",
    "        recommendation_type = \"Collaborative Filtering (SVD)\"\n",
    "    elif 0 < len(user_rated_movies) < 5:\n",
    "        top_movie = user_rated_movies.sort_values(by=\"rating\", ascending=False).iloc[0][\"movieId\"]\n",
    "        recommended_movies = get_content_based_recommendations(top_movie, movies_df, tfidf_matrix, top_n)\n",
    "        recommendation_type = \"Tags-Enhanced Content-Based Filtering\"\n",
    "    else:\n",
    "        top_movies = ratings_df.groupby(\"movieId\")[\"rating\"].mean().sort_values(ascending=False).head(top_n).index\n",
    "        recommended_movies = movies_df[movies_df[\"movieId\"].isin(top_movies)]\n",
    "        recommendation_type = \"Popular Movies for Cold-Start Users\"\n",
    "\n",
    "    return recommended_movies, recommendation_type\n"
   ]
  },
  {
   "cell_type": "markdown",
   "metadata": {},
   "source": [
    "### Model improvement with hyperparameter Tuning "
   ]
  },
  {
   "cell_type": "code",
   "execution_count": 353,
   "metadata": {},
   "outputs": [
    {
     "name": "stdout",
     "output_type": "stream",
     "text": [
      "----------------------------------------------------------------\n",
      "Best RMSE parameters: {'n_factors': 150, 'n_epochs': 30, 'lr_all': 0.005, 'reg_all': 0.1}\n",
      "Best MAE parameters: {'n_factors': 150, 'n_epochs': 30, 'lr_all': 0.005, 'reg_all': 0.1}\n",
      "----------------------------------------------------------------\n",
      "----------------------------------------------------------------\n",
      "MAE:  0.6692\n",
      "RMSE: 0.8710\n",
      "----------------------------------------------------------------\n"
     ]
    }
   ],
   "source": [
    "from surprise.model_selection import GridSearchCV\n",
    "\n",
    "def tune_svd_hyperparameters(data):\n",
    "    param_grid = {\n",
    "        'n_factors': [50, 100, 150],\n",
    "        'n_epochs': [20, 30],\n",
    "        'lr_all': [0.002, 0.005],\n",
    "        'reg_all': [0.02, 0.1]\n",
    "    }\n",
    "    \n",
    "    gs = GridSearchCV(SVD, param_grid, measures=['rmse', 'mae'], cv=5)\n",
    "    gs.fit(data)\n",
    "    \n",
    "    print('----------------------------------------------------------------')\n",
    "    print(\"Best RMSE parameters:\", gs.best_params['rmse'])\n",
    "    print(\"Best MAE parameters:\", gs.best_params['mae'])\n",
    "    print('----------------------------------------------------------------')\n",
    "    return gs.best_estimator['rmse']\n",
    "\n",
    "# Run hyperparameter tuning\n",
    "tuned_model = tune_svd_hyperparameters(data)\n",
    "tuned_model.fit(trainset)\n",
    "# Evaluate tuned model\n",
    "predictions_tuned = tuned_model.test(testset)\n",
    "print('----------------------------------------------------------------')\n",
    "mae = accuracy.mae(predictions_tuned)\n",
    "rmse = accuracy.rmse(predictions_tuned)\n",
    "print('----------------------------------------------------------------')"
   ]
  },
  {
   "cell_type": "code",
   "execution_count": 354,
   "metadata": {},
   "outputs": [
    {
     "name": "stdout",
     "output_type": "stream",
     "text": [
      "----------------------------------------------------------------\n",
      "MAE:  0.6692\n",
      "RMSE: 0.8710\n",
      "----------------------------------------------------------------\n"
     ]
    }
   ],
   "source": [
    "# Evaluate tuned model\n",
    "predictions_tuned = tuned_model.test(testset)\n",
    "print('----------------------------------------------------------------')\n",
    "mae = accuracy.mae(predictions_tuned)\n",
    "rmse = accuracy.rmse(predictions_tuned)\n",
    "print('----------------------------------------------------------------')"
   ]
  },
  {
   "cell_type": "markdown",
   "metadata": {},
   "source": [
    "### SVDPP used to improve performance "
   ]
  },
  {
   "cell_type": "code",
   "execution_count": 355,
   "metadata": {},
   "outputs": [
    {
     "name": "stdout",
     "output_type": "stream",
     "text": [
      "----------------------------------------------------------------\n",
      "Evaluating RMSE, MAE of algorithm SVDpp on 5 split(s).\n",
      "\n",
      "                  Fold 1  Fold 2  Fold 3  Fold 4  Fold 5  Mean    Std     \n",
      "RMSE (testset)    0.8625  0.8567  0.8669  0.8614  0.8625  0.8620  0.0032  \n",
      "MAE (testset)     0.6591  0.6577  0.6641  0.6598  0.6635  0.6608  0.0025  \n",
      "Fit time          865.02  1258.82 933.10  858.50  929.19  968.92  148.25  \n",
      "Test time         10.91   12.31   11.62   11.09   12.99   11.78   0.78    \n",
      "----------------------------------------------------------------\n",
      "----------------------------------------------------------------\n",
      "RMSE: 0.7194\n",
      "MAE:  0.5506\n",
      "----------------------------------------------------------------\n"
     ]
    }
   ],
   "source": [
    "# Train-Test Split\n",
    "trainset, testset = train_test_split(data, test_size=0.2, random_state=42)\n",
    "\n",
    "# Train the SVD++ model\n",
    "svdpp_model = SVDpp()\n",
    "svdpp_model.fit(trainset)\n",
    "\n",
    "# Evaluate SVD++ model\n",
    "print('----------------------------------------------------------------')\n",
    "cross_validate(svdpp_model, data, measures=['RMSE', 'MAE'], cv=5, verbose=True)\n",
    "print('----------------------------------------------------------------')\n",
    "\n",
    "# Calculate RMSE and MAE on test set for SVD++\n",
    "predictions_svdpp = svdpp_model.test(testset)\n",
    "print('----------------------------------------------------------------')\n",
    "rmse= accuracy.rmse(predictions_svdpp)\n",
    "mae= accuracy.mae(predictions_svdpp)\n",
    "print('----------------------------------------------------------------')"
   ]
  },
  {
   "cell_type": "markdown",
   "metadata": {},
   "source": [
    "### Recommendations and Next steps "
   ]
  },
  {
   "cell_type": "markdown",
   "metadata": {},
   "source": [
    "* Consider a Hybrid recommendation system that combines collaborative filtering (SVD) and content-based filtering.\n",
    "* If the user has rated at least 5 movies, use collaborative filtering (SVD).\n",
    "* If the user has rated less than 5 movies, use content-based filtering and recommend the top-rated movie.\n",
    "* If the user has not rated any movies, recommend the top-rated movies to address cold start problem\n",
    "\n",
    "* SVDpp had slightly better performance and needs to be explored further used to improve performance\n",
    "RMSE: 0.7194\n",
    "MAE: 0.5506\n",
    "\n",
    "* Use the large MovieLens dataset for modeling\n",
    "* Deploy the updated model for ease of use\n",
    "* Connect the updated model to customer accounts"
   ]
  },
  {
   "cell_type": "markdown",
   "metadata": {},
   "source": []
  },
  {
   "cell_type": "markdown",
   "metadata": {},
   "source": []
  }
 ],
 "metadata": {
  "kernelspec": {
   "display_name": "Python 3",
   "language": "python",
   "name": "python3"
  },
  "language_info": {
   "codemirror_mode": {
    "name": "ipython",
    "version": 3
   },
   "file_extension": ".py",
   "mimetype": "text/x-python",
   "name": "python",
   "nbconvert_exporter": "python",
   "pygments_lexer": "ipython3",
   "version": "3.8.5"
  }
 },
 "nbformat": 4,
 "nbformat_minor": 2
}
