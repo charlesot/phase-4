{
 "cells": [
  {
   "cell_type": "markdown",
   "metadata": {},
   "source": [
    "* Student name: Charles Ondieki Otwori\n",
    "* Student pace: Part-time\n",
    "* Scheduled project review date/time: February 12, 2024\n",
    "* Instructor name: Daniel Ekale \n",
    "* Github link :"
   ]
  },
  {
   "cell_type": "markdown",
   "metadata": {},
   "source": []
  }
 ],
 "metadata": {
  "kernelspec": {
   "display_name": "Python 3",
   "language": "python",
   "name": "python3"
  },
  "language_info": {
   "name": "python",
   "version": "3.8.5"
  }
 },
 "nbformat": 4,
 "nbformat_minor": 2
}
